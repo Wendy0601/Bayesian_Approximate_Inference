{
 "cells": [
  {
   "cell_type": "code",
   "execution_count": 1,
   "metadata": {
    "collapsed": true,
    "scrolled": true
   },
   "outputs": [],
   "source": [
    "from pgmpy.factors.discrete import TabularCPD\n",
    "from pgmpy.models import BayesianModel\n",
    "from scipy.io import loadmat\n",
    "import pickle\n",
    "import numpy as np\n",
    "from pgmpy.inference import VariableElimination\n",
    "from pgmpy.sampling import GibbsSampling#BayesianModelSampling"
   ]
  },
  {
   "cell_type": "markdown",
   "metadata": {},
   "source": [
    "# Setting up your model"
   ]
  },
  {
   "cell_type": "markdown",
   "metadata": {},
   "source": [
    "### First, set the structure"
   ]
  },
  {
   "cell_type": "code",
   "execution_count": 2,
   "metadata": {},
   "outputs": [
    {
     "name": "stdout",
     "output_type": "stream",
     "text": [
      "[[], ['BirthAsphyxia'], ['Disease', 'Sick'], ['Disease'], ['Disease'], ['Disease'], ['Disease'], ['Disease'], ['Disease'], ['DuctFlow', 'CardiacMixing'], ['CardiacMixing', 'LungParench'], ['LungParench'], ['LungParench', 'LungFlow'], ['LungParench', 'Sick'], ['LVH'], ['HypDistrib', 'HypoxiaInO2'], ['HypoxiaInO2'], ['CO2'], ['ChestXray'], ['Grunting']]\n",
      "[[], [2], [6, 2], [6], [6], [6], [6], [6], [6], [3, 4], [4, 3], [3], [3, 3], [3, 2], [2], [2, 3], [3], [3], [5], [2]]\n"
     ]
    }
   ],
   "source": [
    "s = loadmat('./structure.mat') \n",
    "dag = np.array(s['dag'])\n",
    "vari_card = np.array(s['domain_counts'][0])\n",
    "with open('./parameter.pkl', 'rb') as fp:\n",
    "    CPTs = pickle.load(fp)\n",
    "variable_name = ['BirthAsphyxia', 'Disease', 'Age', 'LVH', 'DuctFlow', 'CardiacMixing',\\\n",
    "                 'LungParench','LungFlow', 'Sick', 'HypDistrib', 'HypoxiaInO2', 'CO2', \\\n",
    "                 'ChestXray', 'Grunting', 'LVHreport', 'LowerBodyO2','RUQO2', 'CO2Report', 'XrayReport', 'GruntingReport']\n",
    "child_model = BayesianModel()\n",
    "child_model.add_nodes_from(variable_name) \n",
    "row, col = np.shape(dag)\n",
    "pai_all = []\n",
    "pai_card_all = []\n",
    "for i in range(col):\n",
    "    pai =[];\n",
    "    pai_card =[];\n",
    "    for j in range(row):\n",
    "        if dag[j,i] == 1:\n",
    "            child_model.add_edges_from([(variable_name[j], variable_name[i]) ])\n",
    "            pai.append(variable_name[j])\n",
    "            pai_card.append(vari_card[j])\n",
    "    pai_all.append(pai)\n",
    "    pai_card_all.append(pai_card)\n",
    "print (pai_all)\n",
    "print (pai_card_all)"
   ]
  },
  {
   "cell_type": "markdown",
   "metadata": {},
   "source": [
    "### Then set up the relationships (the CPDs), Add the relationships to your models"
   ]
  },
  {
   "cell_type": "code",
   "execution_count": 3,
   "metadata": {
    "collapsed": true
   },
   "outputs": [],
   "source": [
    "for i in range(len(variable_name)): \n",
    "    cpd = TabularCPD(\n",
    "           variable  = variable_name[i],\n",
    "           variable_card = vari_card[i],\n",
    "           values =  CPTs[variable_name[i]],\n",
    "           evidence = pai_all[i],\n",
    "           evidence_card = pai_card_all[i] ) \n",
    "    child_model.add_cpds(cpd) "
   ]
  },
  {
   "cell_type": "markdown",
   "metadata": {},
   "source": [
    "### Examine the structure of your graph"
   ]
  },
  {
   "cell_type": "code",
   "execution_count": 4,
   "metadata": {},
   "outputs": [
    {
     "data": {
      "text/plain": [
       "[<TabularCPD representing P(BirthAsphyxia:2) at 0x17dbe748>,\n",
       " <TabularCPD representing P(Disease:6 | BirthAsphyxia:2) at 0x17dbe6d8>,\n",
       " <TabularCPD representing P(Age:3 | Disease:6, Sick:2) at 0x17dbe630>,\n",
       " <TabularCPD representing P(LVH:2 | Disease:6) at 0x17dbe668>,\n",
       " <TabularCPD representing P(DuctFlow:3 | Disease:6) at 0x17dabd30>,\n",
       " <TabularCPD representing P(CardiacMixing:4 | Disease:6) at 0x17dabd68>,\n",
       " <TabularCPD representing P(LungParench:3 | Disease:6) at 0x17dbe780>,\n",
       " <TabularCPD representing P(LungFlow:3 | Disease:6) at 0x17dbe7b8>,\n",
       " <TabularCPD representing P(Sick:2 | Disease:6) at 0x17dbe860>,\n",
       " <TabularCPD representing P(HypDistrib:2 | DuctFlow:3, CardiacMixing:4) at 0x17dbe8d0>,\n",
       " <TabularCPD representing P(HypoxiaInO2:3 | CardiacMixing:4, LungParench:3) at 0x17dbe908>,\n",
       " <TabularCPD representing P(CO2:3 | LungParench:3) at 0x17dbe898>,\n",
       " <TabularCPD representing P(ChestXray:5 | LungParench:3, LungFlow:3) at 0x17dbe7f0>,\n",
       " <TabularCPD representing P(Grunting:2 | LungParench:3, Sick:2) at 0x17dbe828>,\n",
       " <TabularCPD representing P(LVHreport:2 | LVH:2) at 0x17dbe0f0>,\n",
       " <TabularCPD representing P(LowerBodyO2:3 | HypDistrib:2, HypoxiaInO2:3) at 0x17dbe278>,\n",
       " <TabularCPD representing P(RUQO2:3 | HypoxiaInO2:3) at 0x17dbe128>,\n",
       " <TabularCPD representing P(CO2Report:2 | CO2:3) at 0x17dbe198>,\n",
       " <TabularCPD representing P(XrayReport:5 | ChestXray:5) at 0x17dbe1d0>,\n",
       " <TabularCPD representing P(GruntingReport:2 | Grunting:2) at 0x17dbe208>]"
      ]
     },
     "execution_count": 4,
     "metadata": {},
     "output_type": "execute_result"
    }
   ],
   "source": [
    "child_model.get_cpds()"
   ]
  },
  {
   "cell_type": "code",
   "execution_count": 5,
   "metadata": {},
   "outputs": [
    {
     "data": {
      "text/plain": [
       "{'Disease': {'Age',\n",
       "  'BirthAsphyxia',\n",
       "  'CO2',\n",
       "  'CO2Report',\n",
       "  'CardiacMixing',\n",
       "  'ChestXray',\n",
       "  'Disease',\n",
       "  'DuctFlow',\n",
       "  'Grunting',\n",
       "  'GruntingReport',\n",
       "  'HypDistrib',\n",
       "  'HypoxiaInO2',\n",
       "  'LVH',\n",
       "  'LVHreport',\n",
       "  'LowerBodyO2',\n",
       "  'LungFlow',\n",
       "  'LungParench',\n",
       "  'RUQO2',\n",
       "  'Sick',\n",
       "  'XrayReport'}}"
      ]
     },
     "execution_count": 5,
     "metadata": {},
     "output_type": "execute_result"
    }
   ],
   "source": [
    "child_model.active_trail_nodes('Disease')"
   ]
  },
  {
   "cell_type": "markdown",
   "metadata": {},
   "source": [
    "# Making inferences"
   ]
  },
  {
   "cell_type": "code",
   "execution_count": 6,
   "metadata": {
    "collapsed": true
   },
   "outputs": [],
   "source": [
    "child_infer = VariableElimination(child_model) "
   ]
  },
  {
   "cell_type": "markdown",
   "metadata": {},
   "source": [
    "### We can also get conditional probability distributions that take into account what we already know"
   ]
  },
  {
   "cell_type": "code",
   "execution_count": 7,
   "metadata": {},
   "outputs": [
    {
     "name": "stdout",
     "output_type": "stream",
     "text": [
      "╒═════════════════╤══════════════════════╕\n",
      "│ BirthAsphyxia   │   phi(BirthAsphyxia) │\n",
      "╞═════════════════╪══════════════════════╡\n",
      "│ BirthAsphyxia_0 │               0.0813 │\n",
      "├─────────────────┼──────────────────────┤\n",
      "│ BirthAsphyxia_1 │               0.9187 │\n",
      "╘═════════════════╧══════════════════════╛\n",
      "╒═══════════╤════════════════╕\n",
      "│ Disease   │   phi(Disease) │\n",
      "╞═══════════╪════════════════╡\n",
      "│ Disease_0 │         0.0235 │\n",
      "├───────────┼────────────────┤\n",
      "│ Disease_1 │         0.1077 │\n",
      "├───────────┼────────────────┤\n",
      "│ Disease_2 │         0.1429 │\n",
      "├───────────┼────────────────┤\n",
      "│ Disease_3 │         0.6834 │\n",
      "├───────────┼────────────────┤\n",
      "│ Disease_4 │         0.0103 │\n",
      "├───────────┼────────────────┤\n",
      "│ Disease_5 │         0.0322 │\n",
      "╘═══════════╧════════════════╛\n"
     ]
    }
   ],
  }
   
